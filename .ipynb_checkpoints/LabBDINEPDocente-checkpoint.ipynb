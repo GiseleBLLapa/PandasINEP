{
 "cells": [
  {
   "cell_type": "code",
   "execution_count": 13,
   "metadata": {},
   "outputs": [],
   "source": [
    "%matplotlib inline\n",
    "import pandas as pd\n",
    "import matplotlib.pyplot as plt\n",
    "import seaborn as sns\n",
    "plt.style.use('ggplot')\n",
    "\n",
    "df =  pd.read_csv('DM_DOCENTE.CSV', sep ='|')\n",
    "                     "
   ]
  },
  {
   "cell_type": "code",
   "execution_count": 14,
   "metadata": {},
   "outputs": [
    {
     "data": {
      "text/html": [
       "<div>\n",
       "<style scoped>\n",
       "    .dataframe tbody tr th:only-of-type {\n",
       "        vertical-align: middle;\n",
       "    }\n",
       "\n",
       "    .dataframe tbody tr th {\n",
       "        vertical-align: top;\n",
       "    }\n",
       "\n",
       "    .dataframe thead th {\n",
       "        text-align: right;\n",
       "    }\n",
       "</style>\n",
       "<table border=\"1\" class=\"dataframe\">\n",
       "  <thead>\n",
       "    <tr style=\"text-align: right;\">\n",
       "      <th></th>\n",
       "      <th>NU_ANO_CENSO</th>\n",
       "      <th>CO_IES</th>\n",
       "      <th>TP_CATEGORIA_ADMINISTRATIVA</th>\n",
       "      <th>TP_ORGANIZACAO_ACADEMICA</th>\n",
       "      <th>CO_DOCENTE_IES</th>\n",
       "      <th>ID_DOCENTE</th>\n",
       "      <th>TP_SITUACAO</th>\n",
       "      <th>TP_ESCOLARIDADE</th>\n",
       "      <th>TP_REGIME_TRABALHO</th>\n",
       "      <th>TP_SEXO</th>\n",
       "      <th>...</th>\n",
       "      <th>IN_ATUACAO_GRAD_PRESENCIAL</th>\n",
       "      <th>IN_ATUACAO_POS_EAD</th>\n",
       "      <th>IN_ATUACAO_POS_PRESENCIAL</th>\n",
       "      <th>IN_ATUACAO_SEQUENCIAL</th>\n",
       "      <th>IN_ATUACAO_PESQUISA</th>\n",
       "      <th>IN_BOLSA_PESQUISA</th>\n",
       "      <th>IN_SUBSTITUTO</th>\n",
       "      <th>IN_EXERCICIO_DATA_REFERENCIA</th>\n",
       "      <th>IN_VISITANTE</th>\n",
       "      <th>TP_VISITANTE_IFES_VINCULO</th>\n",
       "    </tr>\n",
       "  </thead>\n",
       "  <tbody>\n",
       "    <tr>\n",
       "      <th>0</th>\n",
       "      <td>2018</td>\n",
       "      <td>1</td>\n",
       "      <td>1</td>\n",
       "      <td>1</td>\n",
       "      <td>1179048</td>\n",
       "      <td>F3CE8D201F9DBA7935A31AC6C8FEF33F</td>\n",
       "      <td>1</td>\n",
       "      <td>5</td>\n",
       "      <td>2.0</td>\n",
       "      <td>2</td>\n",
       "      <td>...</td>\n",
       "      <td>0.0</td>\n",
       "      <td>0.0</td>\n",
       "      <td>0.0</td>\n",
       "      <td>0.0</td>\n",
       "      <td>1.0</td>\n",
       "      <td>0.0</td>\n",
       "      <td>0.0</td>\n",
       "      <td>0.0</td>\n",
       "      <td>0.0</td>\n",
       "      <td>NaN</td>\n",
       "    </tr>\n",
       "    <tr>\n",
       "      <th>1</th>\n",
       "      <td>2018</td>\n",
       "      <td>1</td>\n",
       "      <td>1</td>\n",
       "      <td>1</td>\n",
       "      <td>1179049</td>\n",
       "      <td>7CA2AB18D3383AF3168DCD3D4964D1F5</td>\n",
       "      <td>1</td>\n",
       "      <td>5</td>\n",
       "      <td>1.0</td>\n",
       "      <td>2</td>\n",
       "      <td>...</td>\n",
       "      <td>1.0</td>\n",
       "      <td>0.0</td>\n",
       "      <td>1.0</td>\n",
       "      <td>0.0</td>\n",
       "      <td>1.0</td>\n",
       "      <td>1.0</td>\n",
       "      <td>0.0</td>\n",
       "      <td>1.0</td>\n",
       "      <td>0.0</td>\n",
       "      <td>NaN</td>\n",
       "    </tr>\n",
       "    <tr>\n",
       "      <th>2</th>\n",
       "      <td>2018</td>\n",
       "      <td>1</td>\n",
       "      <td>1</td>\n",
       "      <td>1</td>\n",
       "      <td>1179047</td>\n",
       "      <td>8EC22FF9220CDD6A859E555F43B20ED3</td>\n",
       "      <td>1</td>\n",
       "      <td>4</td>\n",
       "      <td>1.0</td>\n",
       "      <td>2</td>\n",
       "      <td>...</td>\n",
       "      <td>0.0</td>\n",
       "      <td>0.0</td>\n",
       "      <td>0.0</td>\n",
       "      <td>0.0</td>\n",
       "      <td>1.0</td>\n",
       "      <td>0.0</td>\n",
       "      <td>0.0</td>\n",
       "      <td>1.0</td>\n",
       "      <td>0.0</td>\n",
       "      <td>NaN</td>\n",
       "    </tr>\n",
       "    <tr>\n",
       "      <th>3</th>\n",
       "      <td>2018</td>\n",
       "      <td>1</td>\n",
       "      <td>1</td>\n",
       "      <td>1</td>\n",
       "      <td>1179050</td>\n",
       "      <td>4C47B46F22C91D5F0A2C5D8C61F58259</td>\n",
       "      <td>1</td>\n",
       "      <td>3</td>\n",
       "      <td>1.0</td>\n",
       "      <td>2</td>\n",
       "      <td>...</td>\n",
       "      <td>1.0</td>\n",
       "      <td>0.0</td>\n",
       "      <td>0.0</td>\n",
       "      <td>0.0</td>\n",
       "      <td>1.0</td>\n",
       "      <td>0.0</td>\n",
       "      <td>0.0</td>\n",
       "      <td>1.0</td>\n",
       "      <td>0.0</td>\n",
       "      <td>NaN</td>\n",
       "    </tr>\n",
       "    <tr>\n",
       "      <th>4</th>\n",
       "      <td>2018</td>\n",
       "      <td>1</td>\n",
       "      <td>1</td>\n",
       "      <td>1</td>\n",
       "      <td>1180953</td>\n",
       "      <td>17EB5D7EF21895C148B654225CF82235</td>\n",
       "      <td>1</td>\n",
       "      <td>5</td>\n",
       "      <td>1.0</td>\n",
       "      <td>2</td>\n",
       "      <td>...</td>\n",
       "      <td>1.0</td>\n",
       "      <td>0.0</td>\n",
       "      <td>0.0</td>\n",
       "      <td>0.0</td>\n",
       "      <td>0.0</td>\n",
       "      <td>NaN</td>\n",
       "      <td>0.0</td>\n",
       "      <td>1.0</td>\n",
       "      <td>0.0</td>\n",
       "      <td>NaN</td>\n",
       "    </tr>\n",
       "    <tr>\n",
       "      <th>5</th>\n",
       "      <td>2018</td>\n",
       "      <td>1</td>\n",
       "      <td>1</td>\n",
       "      <td>1</td>\n",
       "      <td>1179818</td>\n",
       "      <td>880FC4B8E0BC4E318DF377966D69950D</td>\n",
       "      <td>1</td>\n",
       "      <td>5</td>\n",
       "      <td>1.0</td>\n",
       "      <td>2</td>\n",
       "      <td>...</td>\n",
       "      <td>0.0</td>\n",
       "      <td>0.0</td>\n",
       "      <td>0.0</td>\n",
       "      <td>0.0</td>\n",
       "      <td>1.0</td>\n",
       "      <td>0.0</td>\n",
       "      <td>0.0</td>\n",
       "      <td>0.0</td>\n",
       "      <td>0.0</td>\n",
       "      <td>NaN</td>\n",
       "    </tr>\n",
       "    <tr>\n",
       "      <th>6</th>\n",
       "      <td>2018</td>\n",
       "      <td>1</td>\n",
       "      <td>1</td>\n",
       "      <td>1</td>\n",
       "      <td>1179042</td>\n",
       "      <td>2E5DFE5FC62FA52B5274FBFE505C63E4</td>\n",
       "      <td>1</td>\n",
       "      <td>5</td>\n",
       "      <td>1.0</td>\n",
       "      <td>2</td>\n",
       "      <td>...</td>\n",
       "      <td>1.0</td>\n",
       "      <td>0.0</td>\n",
       "      <td>1.0</td>\n",
       "      <td>0.0</td>\n",
       "      <td>1.0</td>\n",
       "      <td>0.0</td>\n",
       "      <td>0.0</td>\n",
       "      <td>1.0</td>\n",
       "      <td>0.0</td>\n",
       "      <td>NaN</td>\n",
       "    </tr>\n",
       "    <tr>\n",
       "      <th>7</th>\n",
       "      <td>2018</td>\n",
       "      <td>1</td>\n",
       "      <td>1</td>\n",
       "      <td>1</td>\n",
       "      <td>1179043</td>\n",
       "      <td>55296803E8C753699404FF93287427DB</td>\n",
       "      <td>1</td>\n",
       "      <td>5</td>\n",
       "      <td>1.0</td>\n",
       "      <td>2</td>\n",
       "      <td>...</td>\n",
       "      <td>1.0</td>\n",
       "      <td>0.0</td>\n",
       "      <td>0.0</td>\n",
       "      <td>0.0</td>\n",
       "      <td>1.0</td>\n",
       "      <td>0.0</td>\n",
       "      <td>0.0</td>\n",
       "      <td>1.0</td>\n",
       "      <td>0.0</td>\n",
       "      <td>NaN</td>\n",
       "    </tr>\n",
       "    <tr>\n",
       "      <th>8</th>\n",
       "      <td>2018</td>\n",
       "      <td>1</td>\n",
       "      <td>1</td>\n",
       "      <td>1</td>\n",
       "      <td>1179040</td>\n",
       "      <td>6AA9421AD8AC44816FA39D2C5F88DADA</td>\n",
       "      <td>1</td>\n",
       "      <td>5</td>\n",
       "      <td>1.0</td>\n",
       "      <td>2</td>\n",
       "      <td>...</td>\n",
       "      <td>1.0</td>\n",
       "      <td>0.0</td>\n",
       "      <td>1.0</td>\n",
       "      <td>0.0</td>\n",
       "      <td>1.0</td>\n",
       "      <td>0.0</td>\n",
       "      <td>0.0</td>\n",
       "      <td>1.0</td>\n",
       "      <td>0.0</td>\n",
       "      <td>NaN</td>\n",
       "    </tr>\n",
       "    <tr>\n",
       "      <th>9</th>\n",
       "      <td>2018</td>\n",
       "      <td>1</td>\n",
       "      <td>1</td>\n",
       "      <td>1</td>\n",
       "      <td>1179041</td>\n",
       "      <td>CA21FE6466B88974D2A89F6C65DCC3F0</td>\n",
       "      <td>1</td>\n",
       "      <td>5</td>\n",
       "      <td>1.0</td>\n",
       "      <td>2</td>\n",
       "      <td>...</td>\n",
       "      <td>1.0</td>\n",
       "      <td>0.0</td>\n",
       "      <td>1.0</td>\n",
       "      <td>0.0</td>\n",
       "      <td>0.0</td>\n",
       "      <td>NaN</td>\n",
       "      <td>0.0</td>\n",
       "      <td>1.0</td>\n",
       "      <td>0.0</td>\n",
       "      <td>NaN</td>\n",
       "    </tr>\n",
       "  </tbody>\n",
       "</table>\n",
       "<p>10 rows × 41 columns</p>\n",
       "</div>"
      ],
      "text/plain": [
       "   NU_ANO_CENSO  CO_IES  TP_CATEGORIA_ADMINISTRATIVA  \\\n",
       "0          2018       1                            1   \n",
       "1          2018       1                            1   \n",
       "2          2018       1                            1   \n",
       "3          2018       1                            1   \n",
       "4          2018       1                            1   \n",
       "5          2018       1                            1   \n",
       "6          2018       1                            1   \n",
       "7          2018       1                            1   \n",
       "8          2018       1                            1   \n",
       "9          2018       1                            1   \n",
       "\n",
       "   TP_ORGANIZACAO_ACADEMICA  CO_DOCENTE_IES                        ID_DOCENTE  \\\n",
       "0                         1         1179048  F3CE8D201F9DBA7935A31AC6C8FEF33F   \n",
       "1                         1         1179049  7CA2AB18D3383AF3168DCD3D4964D1F5   \n",
       "2                         1         1179047  8EC22FF9220CDD6A859E555F43B20ED3   \n",
       "3                         1         1179050  4C47B46F22C91D5F0A2C5D8C61F58259   \n",
       "4                         1         1180953  17EB5D7EF21895C148B654225CF82235   \n",
       "5                         1         1179818  880FC4B8E0BC4E318DF377966D69950D   \n",
       "6                         1         1179042  2E5DFE5FC62FA52B5274FBFE505C63E4   \n",
       "7                         1         1179043  55296803E8C753699404FF93287427DB   \n",
       "8                         1         1179040  6AA9421AD8AC44816FA39D2C5F88DADA   \n",
       "9                         1         1179041  CA21FE6466B88974D2A89F6C65DCC3F0   \n",
       "\n",
       "   TP_SITUACAO  TP_ESCOLARIDADE  TP_REGIME_TRABALHO  TP_SEXO  ...  \\\n",
       "0            1                5                 2.0        2  ...   \n",
       "1            1                5                 1.0        2  ...   \n",
       "2            1                4                 1.0        2  ...   \n",
       "3            1                3                 1.0        2  ...   \n",
       "4            1                5                 1.0        2  ...   \n",
       "5            1                5                 1.0        2  ...   \n",
       "6            1                5                 1.0        2  ...   \n",
       "7            1                5                 1.0        2  ...   \n",
       "8            1                5                 1.0        2  ...   \n",
       "9            1                5                 1.0        2  ...   \n",
       "\n",
       "   IN_ATUACAO_GRAD_PRESENCIAL  IN_ATUACAO_POS_EAD  IN_ATUACAO_POS_PRESENCIAL  \\\n",
       "0                         0.0                 0.0                        0.0   \n",
       "1                         1.0                 0.0                        1.0   \n",
       "2                         0.0                 0.0                        0.0   \n",
       "3                         1.0                 0.0                        0.0   \n",
       "4                         1.0                 0.0                        0.0   \n",
       "5                         0.0                 0.0                        0.0   \n",
       "6                         1.0                 0.0                        1.0   \n",
       "7                         1.0                 0.0                        0.0   \n",
       "8                         1.0                 0.0                        1.0   \n",
       "9                         1.0                 0.0                        1.0   \n",
       "\n",
       "   IN_ATUACAO_SEQUENCIAL  IN_ATUACAO_PESQUISA  IN_BOLSA_PESQUISA  \\\n",
       "0                    0.0                  1.0                0.0   \n",
       "1                    0.0                  1.0                1.0   \n",
       "2                    0.0                  1.0                0.0   \n",
       "3                    0.0                  1.0                0.0   \n",
       "4                    0.0                  0.0                NaN   \n",
       "5                    0.0                  1.0                0.0   \n",
       "6                    0.0                  1.0                0.0   \n",
       "7                    0.0                  1.0                0.0   \n",
       "8                    0.0                  1.0                0.0   \n",
       "9                    0.0                  0.0                NaN   \n",
       "\n",
       "   IN_SUBSTITUTO  IN_EXERCICIO_DATA_REFERENCIA  IN_VISITANTE  \\\n",
       "0            0.0                           0.0           0.0   \n",
       "1            0.0                           1.0           0.0   \n",
       "2            0.0                           1.0           0.0   \n",
       "3            0.0                           1.0           0.0   \n",
       "4            0.0                           1.0           0.0   \n",
       "5            0.0                           0.0           0.0   \n",
       "6            0.0                           1.0           0.0   \n",
       "7            0.0                           1.0           0.0   \n",
       "8            0.0                           1.0           0.0   \n",
       "9            0.0                           1.0           0.0   \n",
       "\n",
       "   TP_VISITANTE_IFES_VINCULO  \n",
       "0                        NaN  \n",
       "1                        NaN  \n",
       "2                        NaN  \n",
       "3                        NaN  \n",
       "4                        NaN  \n",
       "5                        NaN  \n",
       "6                        NaN  \n",
       "7                        NaN  \n",
       "8                        NaN  \n",
       "9                        NaN  \n",
       "\n",
       "[10 rows x 41 columns]"
      ]
     },
     "execution_count": 14,
     "metadata": {},
     "output_type": "execute_result"
    }
   ],
   "source": [
    "df.head(10)"
   ]
  },
  {
   "cell_type": "markdown",
   "metadata": {},
   "source": [
    "A planilha acima descreve exatamento o arquivo disponibilizado pelo INEP, relativo ao corpo docente do 3o.grau em instuições de ensino participantes do CENSO 2018. "
   ]
  },
  {
   "cell_type": "code",
   "execution_count": 16,
   "metadata": {},
   "outputs": [
    {
     "data": {
      "text/plain": [
       "NU_ANO_CENSO                      int64\n",
       "CO_IES                            int64\n",
       "TP_CATEGORIA_ADMINISTRATIVA       int64\n",
       "TP_ORGANIZACAO_ACADEMICA          int64\n",
       "CO_DOCENTE_IES                    int64\n",
       "ID_DOCENTE                       object\n",
       "TP_SITUACAO                       int64\n",
       "TP_ESCOLARIDADE                   int64\n",
       "TP_REGIME_TRABALHO              float64\n",
       "TP_SEXO                           int64\n",
       "NU_ANO_NASCIMENTO                 int64\n",
       "NU_MES_NASCIMENTO                 int64\n",
       "NU_DIA_NASCIMENTO                 int64\n",
       "NU_IDADE                          int64\n",
       "TP_COR_RACA                       int64\n",
       "CO_PAIS_ORIGEM                    int64\n",
       "TP_NACIONALIDADE                  int64\n",
       "CO_UF_NASCIMENTO                float64\n",
       "CO_MUNICIPIO_NASCIMENTO         float64\n",
       "IN_DEFICIENCIA                    int64\n",
       "IN_DEFICIENCIA_CEGUEIRA         float64\n",
       "IN_DEFICIENCIA_BAIXA_VISAO      float64\n",
       "IN_DEFICIENCIA_SURDEZ           float64\n",
       "IN_DEFICIENCIA_AUDITIVA         float64\n",
       "IN_DEFICIENCIA_FISICA           float64\n",
       "IN_DEFICIENCIA_SURDOCEGUEIRA    float64\n",
       "IN_DEFICIENCIA_MULTIPLA         float64\n",
       "IN_DEFICIENCIA_INTELECTUAL      float64\n",
       "IN_ATUACAO_EAD                  float64\n",
       "IN_ATUACAO_EXTENSAO             float64\n",
       "IN_ATUACAO_GESTAO               float64\n",
       "IN_ATUACAO_GRAD_PRESENCIAL      float64\n",
       "IN_ATUACAO_POS_EAD              float64\n",
       "IN_ATUACAO_POS_PRESENCIAL       float64\n",
       "IN_ATUACAO_SEQUENCIAL           float64\n",
       "IN_ATUACAO_PESQUISA             float64\n",
       "IN_BOLSA_PESQUISA               float64\n",
       "IN_SUBSTITUTO                   float64\n",
       "IN_EXERCICIO_DATA_REFERENCIA    float64\n",
       "IN_VISITANTE                    float64\n",
       "TP_VISITANTE_IFES_VINCULO       float64\n",
       "dtype: object"
      ]
     },
     "execution_count": 16,
     "metadata": {},
     "output_type": "execute_result"
    }
   ],
   "source": [
    "df.dtypes"
   ]
  },
  {
   "cell_type": "markdown",
   "metadata": {},
   "source": [
    "Acima, type das variáveis"
   ]
  },
  {
   "cell_type": "markdown",
   "metadata": {},
   "source": [
    "'NU_ANO_CENSO',                        - Ano de referência do Censo Superior\n",
    "'CO_IES',                              - Código único de identificação da IES\n",
    "'TP_CATEGORIA_ADMINISTRATIVA',         - Tipo da Categoria Administrativa da IES\n",
    "'TP_ORGANIZACAO_ACADEMICA',            - Tipo da Organização Acadêmica da IES\n",
    "'CO_DOCENTE_IES',                      - Código gerado pelo Inep para o vínculo do docente à IES\n",
    "'ID_DOCENTE',                          - Código  de identificação gerado pelo Inep para o docente\n",
    "'TP_SITUACAO',                         - Tipo da situação do docente na IES\n",
    "'TP_ESCOLARIDADE',                     - Tipo do grau de escolaridade do docente\n",
    "'TP_REGIME_TRABALHO',                  - Tipo do regime de trabalho do docente\n",
    "'TP_SEXO',                             - Sexo do docente\n",
    "'NU_ANO_NASCIMENTO',                   - Ano de nascimento do docente\n",
    "'NU_MES_NASCIMENTO',                   - Mês de nascimento do docente\n",
    "'NU_DIA_NASCIMENTO',                   - Dia de nascimento do docente\n",
    "'NU_IDADE',                            - Idade que o docente completa no ano de referência do Censo\n",
    "'TP_COR_RACA',                         - Tipo da cor/raça do docente\n",
    "'CO_PAIS_ORIGEM',                      - Código do país de nascimento ou de naturalização do docente\n",
    "'TP_NACIONALIDADE',                    - Tipo da nacionalidade do docente\n",
    "'CO_UF_NASCIMENTO',                    - Código do IBGE da Unidade da Federação de nascimento do docente\n",
    "'CO_MUNICIPIO_NASCIMENTO',             - Código do IBGE do municipio de nascimento do docente\n",
    "'IN_DEFICIENCIA',                      - Informa se o docente é uma pessoa com deficiência\n",
    "'IN_DEFICIENCIA_CEGUEIRA',             - Informa se o docente é uma pessoa cega \n",
    "'IN_DEFICIENCIA_BAIXA_VISAO',          - Informa se o docente é uma pessoa com baixa visão\n",
    "'IN_DEFICIENCIA_SURDEZ',               - Informa se o docente é uma pessoa surda\n",
    "'IN_DEFICIENCIA_AUDITIVA',             - Informa se o docente é uma pessoa com deficiência auditiva\n",
    "'IN_DEFICIENCIA_FISICA',               - Informa se o docente é uma pessoa com deficiência física\n",
    "'IN_DEFICIENCIA_SURDOCEGUEIRA',        - Informa se o docente é uma pessoa com surdocegueira\n",
    "'IN_DEFICIENCIA_MULTIPLA',             - Informa se o docente é uma pessoa com deficiência múltipla\n",
    "'IN_DEFICIENCIA_INTELECTUAL',          - Informa se o docente é uma pessoa com deficiência intelectual\n",
    "'IN_ATUACAO_EAD',                      - Informa se o docente atua no ensino de cursos a distância\n",
    "'IN_ATUACAO_EXTENSAO',                 - Informa se o docente atua em atividades de extensão\n",
    "'IN_ATUACAO_GESTAO',                   - Informa se o docente atua em atividades de gestão, planejamento e avaliação\n",
    "'IN_ATUACAO_GRAD_PRESENCIAL',          - Informa se o docente atua em ativ. de ensino em cursos de graduação presencial\n",
    "'IN_ATUACAO_POS_EAD',                  - Informa se o doc. atua em ativ. de ens. pós-graduação strictu-sensu a distância\n",
    "'IN_ATUACAO_POS_PRESENCIAL',           - em curso de pós-graduação strictu-sensu presencial\n",
    "'IN_ATUACAO_SEQUENCIAL',               - em curso sequencial de formação específica\n",
    "'IN_ATUACAO_PESQUISA',                 - Informa se o docente atua em pesquisa no âmbito de projetos e programas da IES\n",
    "'IN_BOLSA_PESQUISA',                   - Informa se o docente possui bolsa de pesquisa\n",
    "'IN_SUBSTITUTO',                       - Informa se o docente esteve vinculado à IES na condição de docente substituto\n",
    "'IN_EXERCICIO_DATA_REFERENCIA',        - Informa se o docente esteve em exercício em 31/12/2014\n",
    "'IN_VISITANTE',                        - Informa se o docente esteve vinculado à IES na condição de docente visitante\n",
    "'TP_VISITANTE_IFES_VINCULO'            - Tipo de vínculo de docente visitante à IES"
   ]
  },
  {
   "cell_type": "markdown",
   "metadata": {},
   "source": [
    "categoria administratica:\n",
    "1. Pública Federal\n",
    "2. Pública Estadual\n",
    "3. Pública Municipal\n",
    "4. Privada com fins lucrativos\n",
    "5. Privada sem fins lucrativos\n",
    "6. Privada - Particular em sentido estrito\n",
    "7. Especial\n",
    "8. Privada comunitária\n",
    "9. Privada confessional"
   ]
  },
  {
   "cell_type": "markdown",
   "metadata": {},
   "source": [
    "organização acadêmica:\n",
    "1. Universidade\n",
    "2. Centro Universitário\n",
    "3. Faculdade\n",
    "4. Instituto Federal de Educação, Ciência e Tecnologia                                 \n",
    "5. Centro Federal de Educação Tecnológica"
   ]
  },
  {
   "cell_type": "markdown",
   "metadata": {},
   "source": [
    "situação:\n",
    "1. Em exercício\n",
    "2. Afastado para qualificação\n",
    "3. Afastado para exercício em outros órgãos/entidades\n",
    "4. Afastado por outros motivos         \n",
    "5. Afastado para tratamento de saúde                                 \n",
    "6. Falecido"
   ]
  },
  {
   "cell_type": "markdown",
   "metadata": {},
   "source": [
    "escolaridade:\n",
    "1. Sem graduação\n",
    "2. Graduação\n",
    "3. Especialização \n",
    "4. Mestrado\n",
    "5. Doutorado                      "
   ]
  },
  {
   "cell_type": "markdown",
   "metadata": {},
   "source": [
    "regime de trabalho:\n",
    "1. Tempo Integral com dedicação exclusiva\n",
    "2. Tempo Integral sem dedicação exclusiva\n",
    "3. Tempo Parcial                                         \n",
    "4. Horista"
   ]
  },
  {
   "cell_type": "markdown",
   "metadata": {},
   "source": [
    "sexo:\n",
    "1. Feminino\n",
    "2. Masculino "
   ]
  },
  {
   "cell_type": "markdown",
   "metadata": {},
   "source": [
    "cor/raça:\n",
    "0. Docente não quis declarar cor/raça \n",
    "1. Branca\n",
    "2. Preta\n",
    "3. Parda\n",
    "4. Amarela\n",
    "5. Indígena\n",
    "9. Não dispõe da informação (Não resposta)   "
   ]
  },
  {
   "cell_type": "markdown",
   "metadata": {},
   "source": [
    "nacionalidade:\n",
    "1. Brasileira\n",
    "2. Brasileira - nascido no exterior ou naturalizado\n",
    "3. Estrangeira  "
   ]
  },
  {
   "cell_type": "markdown",
   "metadata": {},
   "source": [
    "deficiência:\n",
    "0. Não\n",
    "1. Sim                          \n",
    "9. Não dispõe de informação (Não resposta)   "
   ]
  },
  {
   "cell_type": "markdown",
   "metadata": {},
   "source": [
    "códigos para todos os tipos de defiência ( visual, auditiva, física, mental,  múltiplas, surdocegueira):\n",
    "0. Não (Docente com outro tipo de deficiência)\n",
    "1. Sim \n",
    "(.) Docente não possui qualquer tipo de deficiência       "
   ]
  },
  {
   "cell_type": "markdown",
   "metadata": {},
   "source": [
    "atuação ( gestão, EAD, extensão, presencial, pós-EAD):\n",
    "0. Não\n",
    "1. Sim \n",
    "(.) Afastado"
   ]
  },
  {
   "cell_type": "markdown",
   "metadata": {},
   "source": [
    "pesquisa:\n",
    "0. Não (Docente atua em pesquisa, mas não possui bolsa)\n",
    "1. Sim \n",
    "(.) Docente não atua em pesquisa"
   ]
  },
  {
   "cell_type": "markdown",
   "metadata": {},
   "source": [
    "tipo (substituto, exercício, visitante):\n",
    "0. Não\n",
    "1. Sim \n",
    "(.) Afastado"
   ]
  },
  {
   "cell_type": "markdown",
   "metadata": {},
   "source": [
    "visitante com vínculo:\n",
    "0. Não\n",
    "1. Sim \n",
    "(.) Afastado"
   ]
  },
  {
   "cell_type": "markdown",
   "metadata": {},
   "source": [
    "**PARA EFEITOS DIDÁTICOS LEVANTAREMOS A SITUAÇÃO DOS DOCENTES EM CONDIÇÃO DE DEFICIÊNCIA E COR/RAÇA:**"
   ]
  },
  {
   "cell_type": "markdown",
   "metadata": {},
   "source": [
    "*quantidade de linhas e colunas analisadas:*"
   ]
  },
  {
   "cell_type": "code",
   "execution_count": 18,
   "metadata": {},
   "outputs": [
    {
     "data": {
      "text/plain": [
       "(397893, 41)"
      ]
     },
     "execution_count": 18,
     "metadata": {},
     "output_type": "execute_result"
    }
   ],
   "source": [
    "df.shape"
   ]
  },
  {
   "cell_type": "markdown",
   "metadata": {},
   "source": [
    "**Soma de situações de raça/cor:**"
   ]
  },
  {
   "cell_type": "code",
   "execution_count": 21,
   "metadata": {},
   "outputs": [
    {
     "data": {
      "text/plain": [
       "1    210430\n",
       "0    116943\n",
       "3     57229\n",
       "2      8020\n",
       "4      3883\n",
       "6       889\n",
       "5       499\n",
       "Name: TP_COR_RACA, dtype: int64"
      ]
     },
     "execution_count": 21,
     "metadata": {},
     "output_type": "execute_result"
    }
   ],
   "source": [
    "df['TP_COR_RACA'].value_counts()"
   ]
  },
  {
   "cell_type": "markdown",
   "metadata": {},
   "source": [
    "cor/raça:\n",
    "0. Docente não quis declarar cor/raça \n",
    "1. Branca\n",
    "2. Preta\n",
    "3. Parda\n",
    "4. Amarela\n",
    "5. Indígena\n",
    "9. Não dispõe da informação (Não resposta)  "
   ]
  },
  {
   "cell_type": "code",
   "execution_count": 24,
   "metadata": {},
   "outputs": [
    {
     "data": {
      "text/plain": [
       "<matplotlib.axes._subplots.AxesSubplot at 0x7f9ccbb96c18>"
      ]
     },
     "execution_count": 24,
     "metadata": {},
     "output_type": "execute_result"
    },
    {
     "data": {
      "image/png": "[encoded data removed]",
      "text/plain": [
       "<Figure size 432x288 with 1 Axes>"
      ]
     },
     "metadata": {},
     "output_type": "display_data"
    }
   ],
   "source": [
    "df['TP_COR_RACA'].value_counts().plot.barh(title=\"Cor/Raça\")"
   ]
  },
  {
   "cell_type": "code",
   "execution_count": 26,
   "metadata": {},
   "outputs": [
    {
     "data": {
      "text/plain": [
       "0    354541\n",
       "9     41621\n",
       "1      1731\n",
       "Name: IN_DEFICIENCIA, dtype: int64"
      ]
     },
     "execution_count": 26,
     "metadata": {},
     "output_type": "execute_result"
    }
   ],
   "source": [
    "df['IN_DEFICIENCIA'].value_counts()"
   ]
  },
  {
   "cell_type": "markdown",
   "metadata": {},
   "source": [
    "deficiência:\n",
    "0. Não\n",
    "1. Sim                          \n",
    "9. Não dispõe de informação (Não resposta) "
   ]
  },
  {
   "cell_type": "code",
   "execution_count": 25,
   "metadata": {},
   "outputs": [
    {
     "data": {
      "text/plain": [
       "<matplotlib.axes._subplots.AxesSubplot at 0x7f9ccbb222b0>"
      ]
     },
     "execution_count": 25,
     "metadata": {},
     "output_type": "execute_result"
    },
    {
     "data": {
      "image/png": "[encoded data removed]",
      "text/plain": [
       "<Figure size 432x288 with 1 Axes>"
      ]
     },
     "metadata": {},
     "output_type": "display_data"
    }
   ],
   "source": [
    "df['IN_DEFICIENCIA'].value_counts().plot.barh(title=\"Com deficiência\")"
   ]
  },
  {
   "cell_type": "code",
   "execution_count": 27,
   "metadata": {},
   "outputs": [
    {
     "data": {
      "text/plain": [
       "0.0    1661\n",
       "1.0      70\n",
       "Name: IN_DEFICIENCIA_CEGUEIRA, dtype: int64"
      ]
     },
     "execution_count": 27,
     "metadata": {},
     "output_type": "execute_result"
    }
   ],
   "source": [
    "df['IN_DEFICIENCIA_CEGUEIRA'].value_counts()"
   ]
  },
  {
   "cell_type": "markdown",
   "metadata": {},
   "source": [
    "códigos para todos os tipos de defiência ( visual, auditiva, física, mental,  múltiplas, surdocegueira):\n",
    "0. Não (Docente com outro tipo de deficiência)\n",
    "1. Sim \n",
    "(.) Docente não possui qualquer tipo de deficiência  "
   ]
  },
  {
   "cell_type": "code",
   "execution_count": 28,
   "metadata": {},
   "outputs": [
    {
     "data": {
      "text/plain": [
       "<matplotlib.axes._subplots.AxesSubplot at 0x7f9ccbaffa58>"
      ]
     },
     "execution_count": 28,
     "metadata": {},
     "output_type": "execute_result"
    },
    {
     "data": {
      "image/png": "[encoded data removed]",
      "text/plain": [
       "<Figure size 432x288 with 1 Axes>"
      ]
     },
     "metadata": {},
     "output_type": "display_data"
    }
   ],
   "source": [
    "df['IN_DEFICIENCIA_CEGUEIRA'].value_counts().plot.barh(title=\"Com deficiência Cegueira\")"
   ]
  },
  {
   "cell_type": "code",
   "execution_count": 29,
   "metadata": {},
   "outputs": [
    {
     "data": {
      "text/plain": [
       "0.0    1568\n",
       "1.0     163\n",
       "Name: IN_DEFICIENCIA_SURDEZ, dtype: int64"
      ]
     },
     "execution_count": 29,
     "metadata": {},
     "output_type": "execute_result"
    }
   ],
   "source": [
    "df['IN_DEFICIENCIA_SURDEZ'].value_counts()"
   ]
  },
  {
   "cell_type": "markdown",
   "metadata": {},
   "source": [
    "códigos para todos os tipos de defiência ( visual, auditiva, física, mental,  múltiplas, surdocegueira):\n",
    "0. Não (Docente com outro tipo de deficiência)\n",
    "1. Sim \n",
    "(.) Docente não possui qualquer tipo de deficiência "
   ]
  },
  {
   "cell_type": "code",
   "execution_count": 30,
   "metadata": {},
   "outputs": [
    {
     "data": {
      "text/plain": [
       "<matplotlib.axes._subplots.AxesSubplot at 0x7f9ccbb6e8d0>"
      ]
     },
     "execution_count": 30,
     "metadata": {},
     "output_type": "execute_result"
    },
    {
     "data": {
      "image/png": "[encoded data removed]",
      "text/plain": [
       "<Figure size 432x288 with 1 Axes>"
      ]
     },
     "metadata": {},
     "output_type": "display_data"
    }
   ],
   "source": [
    "df['IN_DEFICIENCIA_SURDEZ'].value_counts().plot.barh(title=\"Com deficiência Surdez\")"
   ]
  },
  {
   "cell_type": "code",
   "execution_count": 31,
   "metadata": {},
   "outputs": [
    {
     "data": {
      "text/plain": [
       "0.0    877\n",
       "1.0    854\n",
       "Name: IN_DEFICIENCIA_FISICA, dtype: int64"
      ]
     },
     "execution_count": 31,
     "metadata": {},
     "output_type": "execute_result"
    }
   ],
   "source": [
    "df['IN_DEFICIENCIA_FISICA'].value_counts()"
   ]
  },
  {
   "cell_type": "markdown",
   "metadata": {},
   "source": [
    "códigos para todos os tipos de defiência ( visual, auditiva, física, mental,  múltiplas, surdocegueira):\n",
    "0. Não (Docente com outro tipo de deficiência)\n",
    "1. Sim \n",
    "(.) Docente não possui qualquer tipo de deficiência "
   ]
  },
  {
   "cell_type": "code",
   "execution_count": 32,
   "metadata": {},
   "outputs": [
    {
     "data": {
      "text/plain": [
       "<matplotlib.axes._subplots.AxesSubplot at 0x7f9ccbaffd30>"
      ]
     },
     "execution_count": 32,
     "metadata": {},
     "output_type": "execute_result"
    },
    {
     "data": {
      "image/png": "[encoded data removed]",
      "text/plain": [
       "<Figure size 432x288 with 1 Axes>"
      ]
     },
     "metadata": {},
     "output_type": "display_data"
    }
   ],
   "source": [
    "df['IN_DEFICIENCIA_FISICA'].value_counts().plot.barh(title=\"Com deficiência Física\")"
   ]
  },
  {
   "cell_type": "code",
   "execution_count": 33,
   "metadata": {},
   "outputs": [
    {
     "data": {
      "text/plain": [
       "0.0    1727\n",
       "1.0       4\n",
       "Name: IN_DEFICIENCIA_SURDOCEGUEIRA, dtype: int64"
      ]
     },
     "execution_count": 33,
     "metadata": {},
     "output_type": "execute_result"
    }
   ],
   "source": [
    "df['IN_DEFICIENCIA_SURDOCEGUEIRA'].value_counts()"
   ]
  },
  {
   "cell_type": "markdown",
   "metadata": {},
   "source": [
    "códigos para todos os tipos de defiência ( visual, auditiva, física, mental,  múltiplas, surdocegueira):\n",
    "0. Não (Docente com outro tipo de deficiência)\n",
    "1. Sim \n",
    "(.) Docente não possui qualquer tipo de deficiência "
   ]
  },
  {
   "cell_type": "code",
   "execution_count": 35,
   "metadata": {},
   "outputs": [
    {
     "data": {
      "text/plain": [
       "<matplotlib.axes._subplots.AxesSubplot at 0x7f9ccb9bc4a8>"
      ]
     },
     "execution_count": 35,
     "metadata": {},
     "output_type": "execute_result"
    },
    {
     "data": {
      "image/png": "[encoded data removed]",
      "text/plain": [
       "<Figure size 432x288 with 1 Axes>"
      ]
     },
     "metadata": {},
     "output_type": "display_data"
    }
   ],
   "source": [
    "df['IN_DEFICIENCIA_SURDOCEGUEIRA'].value_counts().plot.barh(title=\"Com deficiência Surdocegueira\")"
   ]
  },
  {
   "cell_type": "code",
   "execution_count": 36,
   "metadata": {},
   "outputs": [
    {
     "data": {
      "text/plain": [
       "0.0    1718\n",
       "1.0      13\n",
       "Name: IN_DEFICIENCIA_MULTIPLA, dtype: int64"
      ]
     },
     "execution_count": 36,
     "metadata": {},
     "output_type": "execute_result"
    }
   ],
   "source": [
    "df['IN_DEFICIENCIA_MULTIPLA'].value_counts()"
   ]
  },
  {
   "cell_type": "markdown",
   "metadata": {},
   "source": [
    "códigos para todos os tipos de defiência ( visual, auditiva, física, mental,  múltiplas, surdocegueira):\n",
    "0. Não (Docente com outro tipo de deficiência)\n",
    "1. Sim \n",
    "(.) Docente não possui qualquer tipo de deficiência "
   ]
  },
  {
   "cell_type": "code",
   "execution_count": 37,
   "metadata": {},
   "outputs": [
    {
     "data": {
      "text/plain": [
       "<matplotlib.axes._subplots.AxesSubplot at 0x7f9ccb93ab00>"
      ]
     },
     "execution_count": 37,
     "metadata": {},
     "output_type": "execute_result"
    },
    {
     "data": {
      "image/png": "[encoded data removed]",
      "text/plain": [
       "<Figure size 432x288 with 1 Axes>"
      ]
     },
     "metadata": {},
     "output_type": "display_data"
    }
   ],
   "source": [
    "df['IN_DEFICIENCIA_MULTIPLA'].value_counts().plot.barh(title=\"Com deficiência Multipla\")"
   ]
  },
  {
   "cell_type": "code",
   "execution_count": 38,
   "metadata": {},
   "outputs": [
    {
     "data": {
      "text/plain": [
       "0.0    1730\n",
       "1.0       1\n",
       "Name: IN_DEFICIENCIA_INTELECTUAL, dtype: int64"
      ]
     },
     "execution_count": 38,
     "metadata": {},
     "output_type": "execute_result"
    }
   ],
   "source": [
    "df['IN_DEFICIENCIA_INTELECTUAL'].value_counts()"
   ]
  },
  {
   "cell_type": "markdown",
   "metadata": {},
   "source": [
    "códigos para todos os tipos de defiência ( visual, auditiva, física, mental,  múltiplas, surdocegueira):\n",
    "0. Não (Docente com outro tipo de deficiência)\n",
    "1. Sim \n",
    "(.) Docente não possui qualquer tipo de deficiência "
   ]
  },
  {
   "cell_type": "code",
   "execution_count": 39,
   "metadata": {},
   "outputs": [
    {
     "data": {
      "text/plain": [
       "<matplotlib.axes._subplots.AxesSubplot at 0x7f9ccb906b70>"
      ]
     },
     "execution_count": 39,
     "metadata": {},
     "output_type": "execute_result"
    },
    {
     "data": {
      "image/png": "[encoded data removed]",
      "text/plain": [
       "<Figure size 432x288 with 1 Axes>"
      ]
     },
     "metadata": {},
     "output_type": "display_data"
    }
   ],
   "source": [
    "df['IN_DEFICIENCIA_INTELECTUAL'].value_counts().plot.barh(title=\"Com deficiência Intelectual\")"
   ]
  },
  {
   "cell_type": "code",
   "execution_count": 40,
   "metadata": {},
   "outputs": [
    {
     "data": {
      "text/plain": [
       "37     15147\n",
       "38     15137\n",
       "36     14744\n",
       "39     14650\n",
       "40     14576\n",
       "       ...  \n",
       "95         2\n",
       "20         2\n",
       "100        1\n",
       "97         1\n",
       "19         1\n",
       "Name: NU_IDADE, Length: 78, dtype: int64"
      ]
     },
     "execution_count": 40,
     "metadata": {},
     "output_type": "execute_result"
    }
   ],
   "source": [
    "df['NU_IDADE'].value_counts()"
   ]
  },
  {
   "cell_type": "markdown",
   "metadata": {},
   "source": [
    "**Idade do corpo docente analisado**"
   ]
  },
  {
   "cell_type": "code",
   "execution_count": 41,
   "metadata": {},
   "outputs": [
    {
     "data": {
      "text/plain": [
       "<matplotlib.axes._subplots.AxesSubplot at 0x7f9ccb812da0>"
      ]
     },
     "execution_count": 41,
     "metadata": {},
     "output_type": "execute_result"
    },
    {
     "data": {
      "image/png": "[encoded data removed]",
      "text/plain": [
       "<Figure size 432x288 with 1 Axes>"
      ]
     },
     "metadata": {},
     "output_type": "display_data"
    }
   ],
   "source": [
    "df[\"NU_IDADE\"].plot.hist(bins=30, edgecolor='black')"
   ]
  },
  {
   "cell_type": "markdown",
   "metadata": {},
   "source": [
    "**Análise de dados realizada por: Gisele Barba e Lima Lapa\n",
    "  para fins didáticos em disciplia de Laboratório de Banco de Dados\n",
    "  Fatec - SJC\n",
    "  Prof. Ferando Masanori\n",
    "  em novembro de 2019**"
   ]
  }
 ],
 "metadata": {
  "kernelspec": {
   "display_name": "Python 3",
   "language": "python",
   "name": "python3"
  },
  "language_info": {
   "codemirror_mode": {
    "name": "ipython",
    "version": 3
   },
   "file_extension": ".py",
   "mimetype": "text/x-python",
   "name": "python",
   "nbconvert_exporter": "python",
   "pygments_lexer": "ipython3",
   "version": "3.6.8"
  }
 },
 "nbformat": 4,
 "nbformat_minor": 2
}
